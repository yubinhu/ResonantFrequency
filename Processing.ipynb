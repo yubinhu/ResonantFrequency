{
 "cells": [
  {
   "cell_type": "markdown",
   "id": "e677f47f",
   "metadata": {},
   "source": [
    "# Data processing"
   ]
  },
  {
   "cell_type": "code",
   "execution_count": 2,
   "id": "3a46b716",
   "metadata": {},
   "outputs": [],
   "source": [
    "import numpy as np\n",
    "import pandas"
   ]
  },
  {
   "cell_type": "code",
   "execution_count": 3,
   "id": "50859d88",
   "metadata": {},
   "outputs": [],
   "source": [
    "data_path = \"../Data/\"\n",
    "features_path = data_path + \"default_features/\""
   ]
  },
  {
   "cell_type": "code",
   "execution_count": 13,
   "id": "20cb67ac",
   "metadata": {},
   "outputs": [],
   "source": [
    "feature = pandas.read_csv(data_path+\"default_features/\"+\"2.csv\", header=0, sep=';')"
   ]
  },
  {
   "cell_type": "code",
   "execution_count": 19,
   "id": "6ab34965",
   "metadata": {},
   "outputs": [
    {
     "name": "stdout",
     "output_type": "stream",
     "text": [
      "Index(['frameTime', 'pcm_LOGenergy_sma_range', 'pcm_LOGenergy_sma_maxPos',\n",
      "       'pcm_LOGenergy_sma_minPos', 'pcm_LOGenergy_sma_maxameandist',\n",
      "       'pcm_LOGenergy_sma_minameandist', 'pcm_LOGenergy_sma_linregc1',\n",
      "       'pcm_LOGenergy_sma_linregc2', 'pcm_LOGenergy_sma_linregerrA',\n",
      "       'pcm_LOGenergy_sma_linregerrQ', 'pcm_LOGenergy_sma_qregc1',\n",
      "       'pcm_LOGenergy_sma_qregc2', 'pcm_LOGenergy_sma_qregc3',\n",
      "       'pcm_LOGenergy_sma_qregerrA', 'pcm_LOGenergy_sma_qregerrQ',\n",
      "       'pcm_LOGenergy_sma_centroid', 'pcm_LOGenergy_sma_variance',\n",
      "       'pcm_LOGenergy_sma_stddev', 'pcm_LOGenergy_sma_skewness',\n",
      "       'pcm_LOGenergy_sma_kurtosis', 'pcm_LOGenergy_sma_quartile1',\n",
      "       'pcm_LOGenergy_sma_quartile2', 'pcm_LOGenergy_sma_quartile3',\n",
      "       'pcm_LOGenergy_sma_iqr1-2', 'pcm_LOGenergy_sma_iqr2-3',\n",
      "       'pcm_LOGenergy_sma_iqr1-3', 'pcm_LOGenergy_sma_percentile95.0',\n",
      "       'pcm_LOGenergy_sma_percentile98.0', 'pcm_LOGenergy_sma_zcr',\n",
      "       'pcm_LOGenergy_sma_numPeaks', 'pcm_LOGenergy_sma_meanPeakDist',\n",
      "       'pcm_LOGenergy_sma_peakMean', 'pcm_LOGenergy_sma_peakMeanMeanDist',\n",
      "       'pcm_LOGenergy_sma_amean', 'pcm_LOGenergy_sma_absmean',\n",
      "       'pcm_LOGenergy_sma_qmean', 'pcm_LOGenergy_sma_nzabsmean',\n",
      "       'pcm_LOGenergy_sma_nzqmean', 'pcm_LOGenergy_sma_nzgmean',\n",
      "       'pcm_LOGenergy_sma_nnz', 'mfcc_sma[0]_range', 'mfcc_sma[0]_maxPos',\n",
      "       'mfcc_sma[0]_minPos', 'mfcc_sma[0]_maxameandist',\n",
      "       'mfcc_sma[0]_minameandist', 'mfcc_sma[0]_linregc1',\n",
      "       'mfcc_sma[0]_linregc2', 'mfcc_sma[0]_linregerrA',\n",
      "       'mfcc_sma[0]_linregerrQ', 'mfcc_sma[0]_qregc1', 'mfcc_sma[0]_qregc2',\n",
      "       'mfcc_sma[0]_qregc3', 'mfcc_sma[0]_qregerrA', 'mfcc_sma[0]_qregerrQ',\n",
      "       'mfcc_sma[0]_centroid', 'mfcc_sma[0]_variance', 'mfcc_sma[0]_stddev',\n",
      "       'mfcc_sma[0]_skewness', 'mfcc_sma[0]_kurtosis', 'mfcc_sma[0]_quartile1',\n",
      "       'mfcc_sma[0]_quartile2', 'mfcc_sma[0]_quartile3', 'mfcc_sma[0]_iqr1-2',\n",
      "       'mfcc_sma[0]_iqr2-3', 'mfcc_sma[0]_iqr1-3',\n",
      "       'mfcc_sma[0]_percentile95.0', 'mfcc_sma[0]_percentile98.0',\n",
      "       'mfcc_sma[0]_zcr', 'mfcc_sma[0]_numPeaks', 'mfcc_sma[0]_meanPeakDist',\n",
      "       'mfcc_sma[0]_peakMean', 'mfcc_sma[0]_peakMeanMeanDist',\n",
      "       'mfcc_sma[0]_amean', 'mfcc_sma[0]_absmean', 'mfcc_sma[0]_qmean',\n",
      "       'mfcc_sma[0]_nzabsmean', 'mfcc_sma[0]_nzqmean', 'mfcc_sma[0]_nzgmean',\n",
      "       'mfcc_sma[0]_nnz', 'mfcc_sma[1]_range', 'mfcc_sma[1]_maxPos',\n",
      "       'mfcc_sma[1]_minPos', 'mfcc_sma[1]_maxameandist',\n",
      "       'mfcc_sma[1]_minameandist', 'mfcc_sma[1]_linregc1',\n",
      "       'mfcc_sma[1]_linregc2', 'mfcc_sma[1]_linregerrA',\n",
      "       'mfcc_sma[1]_linregerrQ', 'mfcc_sma[1]_qregc1', 'mfcc_sma[1]_qregc2',\n",
      "       'mfcc_sma[1]_qregc3', 'mfcc_sma[1]_qregerrA', 'mfcc_sma[1]_qregerrQ',\n",
      "       'mfcc_sma[1]_centroid', 'mfcc_sma[1]_variance', 'mfcc_sma[1]_stddev',\n",
      "       'mfcc_sma[1]_skewness', 'mfcc_sma[1]_kurtosis', 'mfcc_sma[1]_quartile1',\n",
      "       'mfcc_sma[1]_quartile2'],\n",
      "      dtype='object')\n"
     ]
    }
   ],
   "source": [
    "print(feature.columns[:100])"
   ]
  },
  {
   "cell_type": "code",
   "execution_count": 16,
   "id": "3a2ec5ec",
   "metadata": {},
   "outputs": [
    {
     "ename": "KeyError",
     "evalue": "'frameTime'",
     "output_type": "error",
     "traceback": [
      "\u001b[0;31m---------------------------------------------------------------------------\u001b[0m",
      "\u001b[0;31mKeyError\u001b[0m                                  Traceback (most recent call last)",
      "\u001b[0;32m/usr/local/anaconda3/lib/python3.8/site-packages/pandas/core/indexes/base.py\u001b[0m in \u001b[0;36mget_loc\u001b[0;34m(self, key, method, tolerance)\u001b[0m\n\u001b[1;32m   3360\u001b[0m             \u001b[0;32mtry\u001b[0m\u001b[0;34m:\u001b[0m\u001b[0;34m\u001b[0m\u001b[0;34m\u001b[0m\u001b[0m\n\u001b[0;32m-> 3361\u001b[0;31m                 \u001b[0;32mreturn\u001b[0m \u001b[0mself\u001b[0m\u001b[0;34m.\u001b[0m\u001b[0m_engine\u001b[0m\u001b[0;34m.\u001b[0m\u001b[0mget_loc\u001b[0m\u001b[0;34m(\u001b[0m\u001b[0mcasted_key\u001b[0m\u001b[0;34m)\u001b[0m\u001b[0;34m\u001b[0m\u001b[0;34m\u001b[0m\u001b[0m\n\u001b[0m\u001b[1;32m   3362\u001b[0m             \u001b[0;32mexcept\u001b[0m \u001b[0mKeyError\u001b[0m \u001b[0;32mas\u001b[0m \u001b[0merr\u001b[0m\u001b[0;34m:\u001b[0m\u001b[0;34m\u001b[0m\u001b[0;34m\u001b[0m\u001b[0m\n",
      "\u001b[0;32m/usr/local/anaconda3/lib/python3.8/site-packages/pandas/_libs/index.pyx\u001b[0m in \u001b[0;36mpandas._libs.index.IndexEngine.get_loc\u001b[0;34m()\u001b[0m\n",
      "\u001b[0;32m/usr/local/anaconda3/lib/python3.8/site-packages/pandas/_libs/index.pyx\u001b[0m in \u001b[0;36mpandas._libs.index.IndexEngine.get_loc\u001b[0;34m()\u001b[0m\n",
      "\u001b[0;32mpandas/_libs/hashtable_class_helper.pxi\u001b[0m in \u001b[0;36mpandas._libs.hashtable.PyObjectHashTable.get_item\u001b[0;34m()\u001b[0m\n",
      "\u001b[0;32mpandas/_libs/hashtable_class_helper.pxi\u001b[0m in \u001b[0;36mpandas._libs.hashtable.PyObjectHashTable.get_item\u001b[0;34m()\u001b[0m\n",
      "\u001b[0;31mKeyError\u001b[0m: 'frameTime'",
      "\nThe above exception was the direct cause of the following exception:\n",
      "\u001b[0;31mKeyError\u001b[0m                                  Traceback (most recent call last)",
      "\u001b[0;32m<ipython-input-16-331a52f0f120>\u001b[0m in \u001b[0;36m<module>\u001b[0;34m\u001b[0m\n\u001b[0;32m----> 1\u001b[0;31m \u001b[0mfeature\u001b[0m\u001b[0;34m[\u001b[0m\u001b[0;34m'frameTime'\u001b[0m\u001b[0;34m]\u001b[0m\u001b[0;34m\u001b[0m\u001b[0;34m\u001b[0m\u001b[0m\n\u001b[0m",
      "\u001b[0;32m/usr/local/anaconda3/lib/python3.8/site-packages/pandas/core/frame.py\u001b[0m in \u001b[0;36m__getitem__\u001b[0;34m(self, key)\u001b[0m\n\u001b[1;32m   3453\u001b[0m             \u001b[0;32mif\u001b[0m \u001b[0mself\u001b[0m\u001b[0;34m.\u001b[0m\u001b[0mcolumns\u001b[0m\u001b[0;34m.\u001b[0m\u001b[0mnlevels\u001b[0m \u001b[0;34m>\u001b[0m \u001b[0;36m1\u001b[0m\u001b[0;34m:\u001b[0m\u001b[0;34m\u001b[0m\u001b[0;34m\u001b[0m\u001b[0m\n\u001b[1;32m   3454\u001b[0m                 \u001b[0;32mreturn\u001b[0m \u001b[0mself\u001b[0m\u001b[0;34m.\u001b[0m\u001b[0m_getitem_multilevel\u001b[0m\u001b[0;34m(\u001b[0m\u001b[0mkey\u001b[0m\u001b[0;34m)\u001b[0m\u001b[0;34m\u001b[0m\u001b[0;34m\u001b[0m\u001b[0m\n\u001b[0;32m-> 3455\u001b[0;31m             \u001b[0mindexer\u001b[0m \u001b[0;34m=\u001b[0m \u001b[0mself\u001b[0m\u001b[0;34m.\u001b[0m\u001b[0mcolumns\u001b[0m\u001b[0;34m.\u001b[0m\u001b[0mget_loc\u001b[0m\u001b[0;34m(\u001b[0m\u001b[0mkey\u001b[0m\u001b[0;34m)\u001b[0m\u001b[0;34m\u001b[0m\u001b[0;34m\u001b[0m\u001b[0m\n\u001b[0m\u001b[1;32m   3456\u001b[0m             \u001b[0;32mif\u001b[0m \u001b[0mis_integer\u001b[0m\u001b[0;34m(\u001b[0m\u001b[0mindexer\u001b[0m\u001b[0;34m)\u001b[0m\u001b[0;34m:\u001b[0m\u001b[0;34m\u001b[0m\u001b[0;34m\u001b[0m\u001b[0m\n\u001b[1;32m   3457\u001b[0m                 \u001b[0mindexer\u001b[0m \u001b[0;34m=\u001b[0m \u001b[0;34m[\u001b[0m\u001b[0mindexer\u001b[0m\u001b[0;34m]\u001b[0m\u001b[0;34m\u001b[0m\u001b[0;34m\u001b[0m\u001b[0m\n",
      "\u001b[0;32m/usr/local/anaconda3/lib/python3.8/site-packages/pandas/core/indexes/base.py\u001b[0m in \u001b[0;36mget_loc\u001b[0;34m(self, key, method, tolerance)\u001b[0m\n\u001b[1;32m   3361\u001b[0m                 \u001b[0;32mreturn\u001b[0m \u001b[0mself\u001b[0m\u001b[0;34m.\u001b[0m\u001b[0m_engine\u001b[0m\u001b[0;34m.\u001b[0m\u001b[0mget_loc\u001b[0m\u001b[0;34m(\u001b[0m\u001b[0mcasted_key\u001b[0m\u001b[0;34m)\u001b[0m\u001b[0;34m\u001b[0m\u001b[0;34m\u001b[0m\u001b[0m\n\u001b[1;32m   3362\u001b[0m             \u001b[0;32mexcept\u001b[0m \u001b[0mKeyError\u001b[0m \u001b[0;32mas\u001b[0m \u001b[0merr\u001b[0m\u001b[0;34m:\u001b[0m\u001b[0;34m\u001b[0m\u001b[0;34m\u001b[0m\u001b[0m\n\u001b[0;32m-> 3363\u001b[0;31m                 \u001b[0;32mraise\u001b[0m \u001b[0mKeyError\u001b[0m\u001b[0;34m(\u001b[0m\u001b[0mkey\u001b[0m\u001b[0;34m)\u001b[0m \u001b[0;32mfrom\u001b[0m \u001b[0merr\u001b[0m\u001b[0;34m\u001b[0m\u001b[0;34m\u001b[0m\u001b[0m\n\u001b[0m\u001b[1;32m   3364\u001b[0m \u001b[0;34m\u001b[0m\u001b[0m\n\u001b[1;32m   3365\u001b[0m         \u001b[0;32mif\u001b[0m \u001b[0mis_scalar\u001b[0m\u001b[0;34m(\u001b[0m\u001b[0mkey\u001b[0m\u001b[0;34m)\u001b[0m \u001b[0;32mand\u001b[0m \u001b[0misna\u001b[0m\u001b[0;34m(\u001b[0m\u001b[0mkey\u001b[0m\u001b[0;34m)\u001b[0m \u001b[0;32mand\u001b[0m \u001b[0;32mnot\u001b[0m \u001b[0mself\u001b[0m\u001b[0;34m.\u001b[0m\u001b[0mhasnans\u001b[0m\u001b[0;34m:\u001b[0m\u001b[0;34m\u001b[0m\u001b[0;34m\u001b[0m\u001b[0m\n",
      "\u001b[0;31mKeyError\u001b[0m: 'frameTime'"
     ]
    }
   ],
   "source": [
    "feature['frameTime']"
   ]
  },
  {
   "cell_type": "code",
   "execution_count": null,
   "id": "6a7361be",
   "metadata": {},
   "outputs": [],
   "source": []
  }
 ],
 "metadata": {
  "kernelspec": {
   "display_name": "Python 3",
   "language": "python",
   "name": "python3"
  },
  "language_info": {
   "codemirror_mode": {
    "name": "ipython",
    "version": 3
   },
   "file_extension": ".py",
   "mimetype": "text/x-python",
   "name": "python",
   "nbconvert_exporter": "python",
   "pygments_lexer": "ipython3",
   "version": "3.8.8"
  }
 },
 "nbformat": 4,
 "nbformat_minor": 5
}
